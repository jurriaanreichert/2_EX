{
 "cells": [
  {
   "cell_type": "markdown",
   "metadata": {},
   "source": [
    "# 2IS50 - Exercises 2 (2019-2020)\n",
    "\n",
    "This notebook contains exercises for:\n",
    "\n",
    "* Lists, tuples, comprehensions\n",
    "* random\n",
    "* reading of text files\n",
    "\n",
    "\n",
    "# Introduction to this template notebook\n",
    "\n",
    "* This is a **personal** notebook. \n",
    "* Make sure you work in a **copy** of `...-template.ipynb`,\n",
    "    **renamed** to `...-yourIDnr.ipynb`,\n",
    "    where `yourIDnr` is your TU/e identification number.  \n",
    "* In case of two authors, include both id. numbers:\n",
    "    `...-firstIDnr-secondIDnr.ipynb`.\n",
    "\n",
    "<div class=\"alert alert-danger\" role=\"danger\">\n",
    "<h3>Integrity</h3>\n",
    "<ul>\n",
    "    <li>In this course you must act according to the rules of the TU/e code of scientific conduct.</li>\n",
    "    <li>All the exercises and the graded assignments are to be done within your programming homework group.</li>\n",
    "    <li>You must not copy from the Internet, your friends, books... If you represent other people's work as your own, then that constitutes fraud and will be reported to the Examination Committee.</li>\n",
    "    <li>Making your work available to others (complicity) also constitutes fraud.</li>\n",
    "</ul>\n",
    "</div>\n",
    "\n",
    "You are expected to work with Python 3 code in this notebook.\n",
    "\n",
    "The locations where you should write your solutions can be recognized by\n",
    "**marker lines**,\n",
    "which look like this:\n",
    "\n",
    ">`#//`\n",
    ">    `BEGIN_TODO [Label]` `Description` `(n points)`\n",
    ">\n",
    ">`#//`\n",
    ">    `END_TODO [Label]`\n",
    "\n",
    "<div class=\"alert alert-warning\" role=\"alert\">Do NOT modify or delete these marker lines.  Keep them as they are.<br/>\n",
    "<br/>\n",
    "NEVER write code that is needed for grading <i>outside</i> the marked blocks.\n",
    "It is invisible there.\n",
    "</div>\n",
    "\n",
    "Proceed in this notebook as follows:\n",
    "* **Personalize** the notebook (see below)\n",
    "* **Read** the text.\n",
    "* **Fill in** your solutions between `BEGIN_TODO` and `END_TODO` marker lines.\n",
    "* **Run** _all_ code cells (also the ones _without_ your code),\n",
    "    _in linear order_ from the first code cell.\n",
    "\n",
    "**Personalize your notebook**:\n",
    "1. Copy the following lines of code (`AUTHOR2_...` only when applicable):\n",
    "\n",
    "  ```python\n",
    "  AUTHOR_NAME = 'Your Full Name'\n",
    "  AUTHOR_ID_NR = '1234567'\n",
    "  AUTHOR_DATE = 'YYYY-MM-DD'  # when first modified, e.g. '2019-02-26'\n",
    "\n",
    "  AUTHOR2_NAME = 'Not Applicable'\n",
    "  AUTHOR2_ID_NR = 'Not Applicable'\n",
    "  ```\n",
    "\n",
    "1. Paste them between the marker lines in the next code cell.\n",
    "1. Fill in your _full name_, _identification number_, and the current _date_ as strings between quotes.\n",
    "1. When applicable, also copy and fill in the name and id.nr. for the second author.\n",
    "1. Run the code cell by putting the cursor there and typing **Control-Enter**.\n"
   ]
  },
  {
   "cell_type": "code",
   "execution_count": 1,
   "metadata": {},
   "outputs": [
    {
     "data": {
      "text/plain": [
       "('Jurriaan Reichert', '1352717', '2020-05-01')"
      ]
     },
     "execution_count": 1,
     "metadata": {},
     "output_type": "execute_result"
    }
   ],
   "source": [
    "#// BEGIN_TODO [Author] Name, Id.nr., Date, as strings (1 point)\n",
    "\n",
    "AUTHOR_NAME = 'Jurriaan Reichert'\n",
    "AUTHOR_ID_NR = '1352717'\n",
    "AUTHOR_DATE = '2020-05-01'\n",
    "\n",
    "#// END_TODO [Author]\n",
    "\n",
    "AUTHOR_NAME, AUTHOR_ID_NR, AUTHOR_DATE"
   ]
  },
  {
   "cell_type": "markdown",
   "metadata": {},
   "source": [
    "### Important Reminder\n",
    "\n",
    "* Follow our [Python Coding Standard](https://gitlab.tue.nl/study-material-for-2is50/study-material-2is50-2019-2020-q4/-/blob/master/handouts/coding_standard.pdf).\n",
    "    * In particular, all function definitions must have **type hints** and a **docstring**.\n",
    "* For each function, include _at least two_ (manual) **test cases**.  \n",
    "    Write this testing code in the relevant marked blocks.  \n",
    "    **NOTE**: We will not yet work with _doctests_ in these exercises."
   ]
  },
  {
   "cell_type": "markdown",
   "metadata": {},
   "source": [
    "Run the import cell below.  \n",
    "This will add more functions to Python to use in the exercises."
   ]
  },
  {
   "cell_type": "code",
   "execution_count": 2,
   "metadata": {},
   "outputs": [],
   "source": [
    "from typing import Tuple, List, Sequence, Iterable\n",
    "import random\n",
    "from functools import reduce"
   ]
  },
  {
   "cell_type": "markdown",
   "metadata": {},
   "source": [
    "## Three cards"
   ]
  },
  {
   "cell_type": "markdown",
   "metadata": {},
   "source": [
    "These exercises address the following problem.\n",
    "\n",
    "> You have three (two-sided) cards:\n",
    "> \n",
    "> * black-black\n",
    "> * black-white\n",
    "> * white-white\n",
    ">\n",
    "> You draw a random card, looking only at one (random) side.  \n",
    "> It is _white_.  \n",
    "> What is the probability that the other side is _black_?\n",
    "\n",
    "Think about it for a moment.\n",
    "\n",
    "..."
   ]
  },
  {
   "cell_type": "markdown",
   "metadata": {},
   "source": [
    "Okay, you got an opinion on this probability.\n",
    "So, let's see what an experiment can tell us about this.\n",
    "\n",
    "We'll collect some statistics when the experiment is done $n$ times.\n",
    "Each run of the experiment results in a card color:"
   ]
  },
  {
   "cell_type": "code",
   "execution_count": 4,
   "metadata": {},
   "outputs": [],
   "source": [
    "BLACK = '#'\n",
    "WHITE = 'O'"
   ]
  },
  {
   "cell_type": "markdown",
   "metadata": {},
   "source": [
    "To do one experiment,\n",
    "we need to draw one card at random,\n",
    "and look at a random side.\n",
    "If that side is not _white_,\n",
    "then we ignore this selection,\n",
    "draw a new card,\n",
    "and else we return the color on the _other_ side.\n",
    "\n",
    "By repeating the experiment a sufficient number of times\n",
    "(deciding how many times is sufficient is outside the scope of this course),\n",
    "we hope to find an answer to this problem.\n",
    "\n",
    "Here are the three cards, as a _tuple_ of _tuples_:"
   ]
  },
  {
   "cell_type": "code",
   "execution_count": 5,
   "metadata": {},
   "outputs": [
    {
     "data": {
      "text/plain": [
       "(('#', '#'), ('#', 'O'), ('O', 'O'))"
      ]
     },
     "execution_count": 5,
     "metadata": {},
     "output_type": "execute_result"
    }
   ],
   "source": [
    "CARDS = ((BLACK, BLACK), (BLACK, WHITE), (WHITE, WHITE))\n",
    "CARDS"
   ]
  },
  {
   "cell_type": "markdown",
   "metadata": {},
   "source": [
    "The _left-hand_ item (at index 0) in a card tuple is considered the _front_,\n",
    "and the _right-hand_ item (at index 1) the _back_.\n",
    "\n",
    "The following code extracts the front and back of the second card:"
   ]
  },
  {
   "cell_type": "code",
   "execution_count": 6,
   "metadata": {},
   "outputs": [
    {
     "data": {
      "text/plain": [
       "('#', 'O')"
      ]
     },
     "execution_count": 6,
     "metadata": {},
     "output_type": "execute_result"
    }
   ],
   "source": [
    "front, back = CARDS[1]\n",
    "front, back"
   ]
  },
  {
   "cell_type": "markdown",
   "metadata": {},
   "source": [
    "Let's test this by selecting three random cards (with replacement),\n",
    "and placing them in a list using a _list comprehension_.  \n",
    "(You should re-execute the next cell a couple of times.)"
   ]
  },
  {
   "cell_type": "code",
   "execution_count": 7,
   "metadata": {},
   "outputs": [
    {
     "data": {
      "text/plain": [
       "[('#', 'O'), ('O', 'O'), ('O', 'O')]"
      ]
     },
     "execution_count": 7,
     "metadata": {},
     "output_type": "execute_result"
    }
   ],
   "source": [
    "[random.choice(CARDS) for _ in range(3)]"
   ]
  },
  {
   "cell_type": "markdown",
   "metadata": {},
   "source": [
    "Notes:\n",
    "* We use the name `_` for the control variable when we don't need the value of this variable.\n",
    "* You will never see the card `('O', '#')`, because the selected card is not (yet) flipped randomly."
   ]
  },
  {
   "cell_type": "markdown",
   "metadata": {},
   "source": [
    "### 2.1. Drawing a card\n",
    "\n",
    "Define a parameterless function `draw`, that draws a random card and that also shuffles the card itself\n",
    "(random front/back).\n",
    "\n",
    "**Example**: `draw()` can return `('O', '#')`.\n",
    "\n",
    "**Notes**:\n",
    "* The return type is `Tuple[str, str]`.\n",
    "* Use `random.choice()` to select a card at random from `CARDS`.  \n",
    "  Recall that you can consult the documentation via Shift-TAB.\n",
    "* Use `random.shuffle()` to shuffle the items in a _list_ into a random order.\n",
    "* Thus, the drawn card, being a _tuple_ (hence, _immutable_),\n",
    "    must first be converted to a _list_ (which is _mutable_).  \n",
    "    For this, use the constructor `list()` with a tuple as argument.  \n",
    "    After shuffling, convert the list back into a tuple with `tuple`.\n",
    "* N.B. `random.shuffle()` does not return anything; it modifies its argument."
   ]
  },
  {
   "cell_type": "code",
   "execution_count": 8,
   "metadata": {},
   "outputs": [],
   "source": [
    "def draw() -> Tuple[str, str]:\n",
    "    \"\"\"Draw a random card with random front/back.\n",
    "    \"\"\"\n",
    "\n",
    "#// BEGIN_TODO [draw] Draw a card\n",
    "\n",
    "\n",
    "\n",
    "#// END_TODO [draw]"
   ]
  },
  {
   "cell_type": "markdown",
   "metadata": {},
   "source": [
    "Test the function `draw` manually, by drawing a card 10 times and inspecting the results.\n",
    "\n",
    "**Notes**:\n",
    "* Use a `for` loop over `range(10)`, and the function `print`.\n",
    "* If necessary, repeatedly execute the test cell until you have seen all four possible situations of\n",
    "    front/back being black/white."
   ]
  },
  {
   "cell_type": "code",
   "execution_count": null,
   "metadata": {},
   "outputs": [],
   "source": [
    "#// BEGIN_TODO [draw_tests] Draw a card test cases\n",
    "\n",
    "# ===== =====> Replace this line by your code. <===== ===== #\n",
    "\n",
    "#// END_TODO [draw_tests]"
   ]
  },
  {
   "cell_type": "markdown",
   "metadata": {},
   "source": [
    "### 2.2. Do one experiment\n",
    "\n",
    "Now, define (parameterless) function `experiment` to carry out _one_ experiment:\n",
    "* repeatedly draw a card until the front is white,\n",
    "* and then return the color of the _other_ side.\n",
    "\n",
    "**Notes**:\n",
    "* Use a `while` loop.\n",
    "* Use your function `draw`.\n",
    "* If you arrange it carefully, you only need to call `draw` in one place (inside the loop).  \n",
    "    (Use auxiliary variables `front` and `back`, where `front` is initialized as `BLACK`.)"
   ]
  },
  {
   "cell_type": "code",
   "execution_count": null,
   "metadata": {},
   "outputs": [],
   "source": [
    "def experiment() -> str:\n",
    "    \"\"\"Return color of other side, when drawing a random card,\n",
    "    knowing that the front is white.\n",
    "    \"\"\"\n",
    "\n",
    "#// BEGIN_TODO [experiment] Do one experiment\n",
    "\n",
    "# ===== =====> Replace this line by your code. <===== ===== #\n",
    "\n",
    "#// END_TODO [experiment]"
   ]
  },
  {
   "cell_type": "markdown",
   "metadata": {},
   "source": [
    "Again, test this by calling `experiment` 10 times.\n",
    "Now, use a _list comprehension,_ and don't use `print`."
   ]
  },
  {
   "cell_type": "code",
   "execution_count": null,
   "metadata": {},
   "outputs": [],
   "source": [
    "#// BEGIN_TODO [experiment_tests] Do one experiment test cases\n",
    "\n",
    "# ===== =====> Replace this line by your code. <===== ===== #\n",
    "\n",
    "#// END_TODO [experiment_tests]"
   ]
  },
  {
   "cell_type": "markdown",
   "metadata": {},
   "source": [
    "### 2.3. Do multiple experiments and gather statistics\n",
    "\n",
    "We are now ready for a more extensive experiment.\n",
    "\n",
    "Define function `experiments`\n",
    "that, for given positive integer `repeat_count`, repeats the experiment `repeat_count` times, and\n",
    "return the fraction of times the other side was _black_.\n",
    "\n",
    "**Notes**:\n",
    "* Don't forget the **type hints**: The return type is `float`.\n",
    "* Don't forget the **docstring**; it also needs to mention the assumption about `repeat_count`.\n",
    "* Use the function `experiment`.\n",
    "* You can use a `for` loop over `range(repeat_count)` and a variable to count successes.  \n",
    "    But you can also apply `sum` to a list comprehension of all experiment outcomes,\n",
    "    where the boolean result is converted to an integer with `int`."
   ]
  },
  {
   "cell_type": "code",
   "execution_count": null,
   "metadata": {},
   "outputs": [],
   "source": [
    "#// BEGIN_TODO [experiments] Do multiple experiments\n",
    "\n",
    "# ===== =====> Replace this line by your code. <===== ===== #\n",
    "\n",
    "#// END_TODO [experiments]"
   ]
  },
  {
   "cell_type": "markdown",
   "metadata": {},
   "source": [
    "Do two quick (smoke) tests, with `repeat_count` equal 1 and 10 (which is too small to draw conclusions).\n",
    "\n",
    "**Notes**:\n",
    "* Use `print`."
   ]
  },
  {
   "cell_type": "code",
   "execution_count": null,
   "metadata": {},
   "outputs": [],
   "source": [
    "#// BEGIN_TODO [experiments_tests] Do multiple experiments test cases\n",
    "\n",
    "# ===== =====> Replace this line by your code. <===== ===== #\n",
    "\n",
    "#// END_TODO [experiments_tests]"
   ]
  },
  {
   "cell_type": "markdown",
   "metadata": {},
   "source": [
    "Now, do it one million times and determe\n",
    "what _percentage_ had a black backside:"
   ]
  },
  {
   "cell_type": "code",
   "execution_count": null,
   "metadata": {},
   "outputs": [],
   "source": [
    "experiments(1000000) * 100  # takes a few seconds"
   ]
  },
  {
   "cell_type": "markdown",
   "metadata": {},
   "source": [
    "Does that match your expectation?\n",
    "\n",
    "Can you explain the result?"
   ]
  },
  {
   "cell_type": "markdown",
   "metadata": {},
   "source": [
    "## Sums of Squares\n",
    "\n",
    "On Monday 10 February 2020, Willem Bouman (80) set a new\n",
    "[world record in mental calculation](https://www.cursor.tue.nl/en/news/2020/februari/week-2/willem-bouman-sets-his-fifth-mental-calculation-world-record/):\n",
    "\n",
    "> Write 10 random 5-digit numbers as the sum of 4 squares.\n",
    "\n",
    "He did two attempts of 10 numbers each. Altogether, it took him less than 10 minutes.\n",
    "The results are in two text files named `Willem_Bouman_World_Record_Sum_of_Squares-?.csv`,\n",
    "where `?` is `1` or `2`."
   ]
  },
  {
   "cell_type": "markdown",
   "metadata": {},
   "source": [
    "### 2.4. Check sum of squares\n",
    "\n",
    "Define function `check_sum_of_squares`\n",
    "that\n",
    "* takes two parameters\n",
    "  * an integer `n`\n",
    "  * a sequence (tuple or list) of integers `s` (type `Sequence[int]`)\n",
    "* returns a boolean, and\n",
    "* determines whether `n` equals the sum of the squares of the numbers in `s`.\n",
    "\n",
    "**Notes**:\n",
    "* Your options to determine the sum of squares are\n",
    "  * use a `for`-loop and an auxiliary (accumulation) variable\n",
    "  * use `map` (to get squares) and `reduce` (to sum)\n",
    "  * apply `sum` to a _list comprehension_ with squares (strongly recommended)"
   ]
  },
  {
   "cell_type": "code",
   "execution_count": null,
   "metadata": {},
   "outputs": [],
   "source": [
    "def check_sum_of_squares(n: int, s: Sequence[int]) -> bool:\n",
    "    \"\"\"Determine whether n equals the sum of the squares of the numbers in s.\n",
    "    \"\"\"\n",
    "\n",
    "#// BEGIN_TODO [check_sum_of_squares] Check sum of squares\n",
    "\n",
    "# ===== =====> Replace this line by your code. <===== ===== #\n",
    "\n",
    "#// END_TODO [check_sum_of_squares]"
   ]
  },
  {
   "cell_type": "code",
   "execution_count": null,
   "metadata": {},
   "outputs": [],
   "source": [
    "#// BEGIN_TODO [check_sum_of_squares_tests] Check sum of squares test cases\n",
    "\n",
    "# ===== =====> Replace this line by your code. <===== ===== #\n",
    "\n",
    "#// END_TODO [check_sum_of_squares_tests]"
   ]
  },
  {
   "cell_type": "markdown",
   "metadata": {},
   "source": [
    "### 2.5. Check multiple sums of squares\n",
    "\n",
    "Define function `check_multiple` that\n",
    "* takes one parameter `lines`, being an _iterable_ of strings (type `Iterable[str]`)\n",
    "  where each line consists of five comma-separated integer values,\n",
    "* for each line\n",
    "  * checks whether the first number equals the sum of the squares of the remaining numbers,\n",
    "  * prints the numbers and result using the given `LINE_FMT`,\n",
    "* prints the outcome of the attempt using the given `ATTEMPT_FMT`, and\n",
    "* returns the attempt result as boolean.\n",
    "\n",
    "**Example**:\n",
    "* Call `check_multiple([\"25, 3, 4, 0, 0\", \"170, 12, 5, 1, 1\"])` prints\n",
    "```\n",
    "   25 ==   3^2 +   4^2 +   0^2 +   0^2  passed\n",
    "  170 ==  12^2 +   5^2 +   1^2 +   1^2  FAILED\n",
    "Attempt FAILED\n",
    "```\n",
    "\n",
    "**Notes**:\n",
    "* Use a `for`-loop to iterate over the lines in `lines`.\n",
    "* Splits each line at the commas using `line.split(',')`.\n",
    "* Convert each string item to an integer using `int(item)`.\n",
    "* The preceding two steps can be combined in a _list comprehension_ to yield a list of numbers.\n",
    "* Use your function `check_sum_of_squares` and our function `outcome`.\n",
    "* Use the given format strings to get output with properly aligned columns."
   ]
  },
  {
   "cell_type": "code",
   "execution_count": null,
   "metadata": {},
   "outputs": [],
   "source": [
    "# Given format strings and auxiliary function\n",
    "\n",
    "LINE_FMT = \"{:5} == {:3}^2 + {:3}^2 + {:3}^2 + {:3}^2  {}\"\n",
    "ATTEMPT_FMT = \"Attempt {}\"\n",
    "\n",
    "def outcome(result: bool) -> str:\n",
    "    \"\"\"Return \"passed\" or \"FAILED\" depending on result.\n",
    "    \"\"\"\n",
    "    return \"passed\" if result else \"FAILED\""
   ]
  },
  {
   "cell_type": "code",
   "execution_count": null,
   "metadata": {},
   "outputs": [],
   "source": [
    "def check_multiple(lines: Iterable[str]) -> bool:\n",
    "    \"\"\"Check all lines and print the results as specified, also\n",
    "    return whether the attempt was successful.\n",
    "    \"\"\"\n",
    "\n",
    "#// BEGIN_TODO [check_multiple] Check multiple lines\n",
    "\n",
    "# ===== =====> Replace this line by your code. <===== ===== #\n",
    "\n",
    "#// END_TODO [check_multiple]"
   ]
  },
  {
   "cell_type": "code",
   "execution_count": null,
   "metadata": {},
   "outputs": [],
   "source": [
    "#// BEGIN_TODO [check_multiple_tests] Check multiple lines test cases\n",
    "\n",
    "# ===== =====> Replace this line by your code. <===== ===== #\n",
    "\n",
    "#// END_TODO [check_multiple_tests]"
   ]
  },
  {
   "cell_type": "markdown",
   "metadata": {},
   "source": [
    "### 2.6. Check the files\n",
    "\n",
    "Write code to check the contents of the two given files.\n",
    "\n",
    "**Notes**:\n",
    "* Use the given format string `FILE_NAME_FMT` to obtain the file names.\n",
    "* When `f` is a file opened for reading, `f` is an _iterable_ of the lines in `f`.  \n",
    "  That _iterable_ can be passed into `check_multiple()`.  "
   ]
  },
  {
   "cell_type": "code",
   "execution_count": null,
   "metadata": {},
   "outputs": [],
   "source": [
    "# Given format string for file names\n",
    "FILE_NAME_FMT = 'Willem_Bouman_World_Record_Sum_of_Squares-{}.csv'\n",
    "\n",
    "# Example usage: FILE_NAME_FMT.format('1')"
   ]
  },
  {
   "cell_type": "code",
   "execution_count": null,
   "metadata": {},
   "outputs": [],
   "source": [
    "#// BEGIN_TODO [check_file_1] Check file 1\n",
    "\n",
    "# ===== =====> Replace this line by your code. <===== ===== #\n",
    "\n",
    "#// END_TODO [check_file_1]"
   ]
  },
  {
   "cell_type": "code",
   "execution_count": null,
   "metadata": {},
   "outputs": [],
   "source": [
    "#// BEGIN_TODO [check_file_2] Check file 2\n",
    "\n",
    "# ===== =====> Replace this line by your code. <===== ===== #\n",
    "\n",
    "#// END_TODO [check_file_2]"
   ]
  },
  {
   "cell_type": "markdown",
   "metadata": {},
   "source": [
    "\n",
    "## How to submit your work\n",
    "\n",
    "1. **Before submitting**, you must run your notebook by doing **Kernel > Restart & Run All**.  \n",
    "   Make sure that your notebook runs without errors **in linear order**.\n",
    "\n",
    "2. Remember to rename the notebook, replacing `...-template.ipynb` with `...-yourIDnr.ipynb`, where `yourIDnr` is your TU/e identification number.\n",
    "\n",
    "3. Submit the executed notebook with your work\n",
    "   for the appropriate assignment in **Canvas**.\n",
    "\n",
    "* In the **Momotor** tab in Canvas,\n",
    "  you can select that assignment again to find some feedback on your submitted work.\n",
    "  \n",
    "* If there are any problems reported by _Momotor_,\n",
    "  then you need to fix those,\n",
    "  and **resubmit the fixed notebook**.\n",
    "\n",
    "In case of a high workload on our server\n",
    "(because many students submit close to the deadline),\n",
    "it may take longer to receive the feedback.\n"
   ]
  },
  {
   "cell_type": "code",
   "execution_count": null,
   "metadata": {},
   "outputs": [],
   "source": [
    "%whos"
   ]
  },
  {
   "cell_type": "markdown",
   "metadata": {},
   "source": [
    "---\n",
    "\n",
    "# (End of Notebook)\n",
    "\n",
    "&copy; 2019-2020 - **TU/e** - Eindhoven University of Technology"
   ]
  }
 ],
 "metadata": {
  "kernelspec": {
   "display_name": "Python 3",
   "language": "python",
   "name": "python3"
  },
  "language_info": {
   "codemirror_mode": {
    "name": "ipython",
    "version": 3
   },
   "file_extension": ".py",
   "mimetype": "text/x-python",
   "name": "python",
   "nbconvert_exporter": "python",
   "pygments_lexer": "ipython3",
   "version": "3.7.3"
  }
 },
 "nbformat": 4,
 "nbformat_minor": 2
}
